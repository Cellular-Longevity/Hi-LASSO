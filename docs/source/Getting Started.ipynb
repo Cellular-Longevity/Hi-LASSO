{
 "cells": [
  {
   "cell_type": "markdown",
   "metadata": {},
   "source": [
    "# Getting Started"
   ]
  },
  {
   "cell_type": "markdown",
   "metadata": {},
   "source": [
    "## Data load"
   ]
  },
  {
   "cell_type": "code",
   "execution_count": 1,
   "metadata": {},
   "outputs": [],
   "source": [
    "import pandas as pd \n",
    "X = pd.read_csv('https://raw.githubusercontent.com/datax-lab/Hi-LASSO/master/simulation_data/X.csv')\n",
    "y = pd.read_csv('https://raw.githubusercontent.com/datax-lab/Hi-LASSO/master/simulation_data/y.csv')"
   ]
  },
  {
   "cell_type": "code",
   "execution_count": 2,
   "metadata": {},
   "outputs": [
    {
     "data": {
      "text/html": [
       "<div>\n",
       "<style scoped>\n",
       "    .dataframe tbody tr th:only-of-type {\n",
       "        vertical-align: middle;\n",
       "    }\n",
       "\n",
       "    .dataframe tbody tr th {\n",
       "        vertical-align: top;\n",
       "    }\n",
       "\n",
       "    .dataframe thead th {\n",
       "        text-align: right;\n",
       "    }\n",
       "</style>\n",
       "<table border=\"1\" class=\"dataframe\">\n",
       "  <thead>\n",
       "    <tr style=\"text-align: right;\">\n",
       "      <th></th>\n",
       "      <th>V1</th>\n",
       "      <th>V2</th>\n",
       "      <th>V3</th>\n",
       "      <th>V4</th>\n",
       "      <th>V5</th>\n",
       "      <th>V6</th>\n",
       "      <th>V7</th>\n",
       "      <th>V8</th>\n",
       "      <th>V9</th>\n",
       "      <th>V10</th>\n",
       "      <th>...</th>\n",
       "      <th>V91</th>\n",
       "      <th>V92</th>\n",
       "      <th>V93</th>\n",
       "      <th>V94</th>\n",
       "      <th>V95</th>\n",
       "      <th>V96</th>\n",
       "      <th>V97</th>\n",
       "      <th>V98</th>\n",
       "      <th>V99</th>\n",
       "      <th>V100</th>\n",
       "    </tr>\n",
       "  </thead>\n",
       "  <tbody>\n",
       "    <tr>\n",
       "      <th>0</th>\n",
       "      <td>0.348426</td>\n",
       "      <td>0.517518</td>\n",
       "      <td>-0.152922</td>\n",
       "      <td>-0.529037</td>\n",
       "      <td>-0.761765</td>\n",
       "      <td>-0.521656</td>\n",
       "      <td>-0.283716</td>\n",
       "      <td>0.490174</td>\n",
       "      <td>0.260491</td>\n",
       "      <td>-0.273269</td>\n",
       "      <td>...</td>\n",
       "      <td>-1.594468</td>\n",
       "      <td>-2.296667</td>\n",
       "      <td>0.688847</td>\n",
       "      <td>-0.884829</td>\n",
       "      <td>0.147586</td>\n",
       "      <td>0.259268</td>\n",
       "      <td>-1.594399</td>\n",
       "      <td>-1.482207</td>\n",
       "      <td>1.597720</td>\n",
       "      <td>1.102619</td>\n",
       "    </tr>\n",
       "    <tr>\n",
       "      <th>1</th>\n",
       "      <td>0.585253</td>\n",
       "      <td>0.468142</td>\n",
       "      <td>0.270562</td>\n",
       "      <td>-0.697588</td>\n",
       "      <td>-0.073801</td>\n",
       "      <td>-0.487004</td>\n",
       "      <td>-0.282624</td>\n",
       "      <td>0.076316</td>\n",
       "      <td>0.220236</td>\n",
       "      <td>-0.703602</td>\n",
       "      <td>...</td>\n",
       "      <td>-1.391808</td>\n",
       "      <td>-0.824046</td>\n",
       "      <td>0.727239</td>\n",
       "      <td>-0.046264</td>\n",
       "      <td>-1.482356</td>\n",
       "      <td>-1.080878</td>\n",
       "      <td>0.451564</td>\n",
       "      <td>-0.785846</td>\n",
       "      <td>2.037206</td>\n",
       "      <td>0.526190</td>\n",
       "    </tr>\n",
       "    <tr>\n",
       "      <th>2</th>\n",
       "      <td>-0.301555</td>\n",
       "      <td>-0.901268</td>\n",
       "      <td>-0.486487</td>\n",
       "      <td>-0.221278</td>\n",
       "      <td>-0.374391</td>\n",
       "      <td>0.080040</td>\n",
       "      <td>-2.082875</td>\n",
       "      <td>-1.964580</td>\n",
       "      <td>-2.079053</td>\n",
       "      <td>-1.966530</td>\n",
       "      <td>...</td>\n",
       "      <td>0.455793</td>\n",
       "      <td>2.248457</td>\n",
       "      <td>-1.362962</td>\n",
       "      <td>1.233083</td>\n",
       "      <td>-0.685365</td>\n",
       "      <td>0.315421</td>\n",
       "      <td>-0.695921</td>\n",
       "      <td>0.099969</td>\n",
       "      <td>1.589188</td>\n",
       "      <td>0.328288</td>\n",
       "    </tr>\n",
       "    <tr>\n",
       "      <th>3</th>\n",
       "      <td>-0.534475</td>\n",
       "      <td>-0.339979</td>\n",
       "      <td>-0.189170</td>\n",
       "      <td>1.250699</td>\n",
       "      <td>1.147584</td>\n",
       "      <td>0.574485</td>\n",
       "      <td>1.078780</td>\n",
       "      <td>0.024339</td>\n",
       "      <td>1.112345</td>\n",
       "      <td>1.119577</td>\n",
       "      <td>...</td>\n",
       "      <td>0.105867</td>\n",
       "      <td>0.106110</td>\n",
       "      <td>1.911083</td>\n",
       "      <td>0.063714</td>\n",
       "      <td>0.054433</td>\n",
       "      <td>-0.293569</td>\n",
       "      <td>-2.066818</td>\n",
       "      <td>-0.376513</td>\n",
       "      <td>0.734963</td>\n",
       "      <td>-0.206481</td>\n",
       "    </tr>\n",
       "    <tr>\n",
       "      <th>4</th>\n",
       "      <td>0.097464</td>\n",
       "      <td>0.575279</td>\n",
       "      <td>0.353189</td>\n",
       "      <td>-0.816164</td>\n",
       "      <td>-0.769933</td>\n",
       "      <td>-0.224066</td>\n",
       "      <td>0.368319</td>\n",
       "      <td>0.407449</td>\n",
       "      <td>1.145179</td>\n",
       "      <td>0.726215</td>\n",
       "      <td>...</td>\n",
       "      <td>-0.132294</td>\n",
       "      <td>0.492144</td>\n",
       "      <td>0.991359</td>\n",
       "      <td>-1.561440</td>\n",
       "      <td>0.063365</td>\n",
       "      <td>-0.789509</td>\n",
       "      <td>1.067706</td>\n",
       "      <td>0.440007</td>\n",
       "      <td>1.675415</td>\n",
       "      <td>0.922870</td>\n",
       "    </tr>\n",
       "  </tbody>\n",
       "</table>\n",
       "<p>5 rows × 100 columns</p>\n",
       "</div>"
      ],
      "text/plain": [
       "         V1        V2        V3        V4        V5        V6        V7  \\\n",
       "0  0.348426  0.517518 -0.152922 -0.529037 -0.761765 -0.521656 -0.283716   \n",
       "1  0.585253  0.468142  0.270562 -0.697588 -0.073801 -0.487004 -0.282624   \n",
       "2 -0.301555 -0.901268 -0.486487 -0.221278 -0.374391  0.080040 -2.082875   \n",
       "3 -0.534475 -0.339979 -0.189170  1.250699  1.147584  0.574485  1.078780   \n",
       "4  0.097464  0.575279  0.353189 -0.816164 -0.769933 -0.224066  0.368319   \n",
       "\n",
       "         V8        V9       V10  ...       V91       V92       V93       V94  \\\n",
       "0  0.490174  0.260491 -0.273269  ... -1.594468 -2.296667  0.688847 -0.884829   \n",
       "1  0.076316  0.220236 -0.703602  ... -1.391808 -0.824046  0.727239 -0.046264   \n",
       "2 -1.964580 -2.079053 -1.966530  ...  0.455793  2.248457 -1.362962  1.233083   \n",
       "3  0.024339  1.112345  1.119577  ...  0.105867  0.106110  1.911083  0.063714   \n",
       "4  0.407449  1.145179  0.726215  ... -0.132294  0.492144  0.991359 -1.561440   \n",
       "\n",
       "        V95       V96       V97       V98       V99      V100  \n",
       "0  0.147586  0.259268 -1.594399 -1.482207  1.597720  1.102619  \n",
       "1 -1.482356 -1.080878  0.451564 -0.785846  2.037206  0.526190  \n",
       "2 -0.685365  0.315421 -0.695921  0.099969  1.589188  0.328288  \n",
       "3  0.054433 -0.293569 -2.066818 -0.376513  0.734963 -0.206481  \n",
       "4  0.063365 -0.789509  1.067706  0.440007  1.675415  0.922870  \n",
       "\n",
       "[5 rows x 100 columns]"
      ]
     },
     "execution_count": 2,
     "metadata": {},
     "output_type": "execute_result"
    }
   ],
   "source": [
    "X.head()"
   ]
  },
  {
   "cell_type": "code",
   "execution_count": 3,
   "metadata": {},
   "outputs": [
    {
     "data": {
      "text/html": [
       "<div>\n",
       "<style scoped>\n",
       "    .dataframe tbody tr th:only-of-type {\n",
       "        vertical-align: middle;\n",
       "    }\n",
       "\n",
       "    .dataframe tbody tr th {\n",
       "        vertical-align: top;\n",
       "    }\n",
       "\n",
       "    .dataframe thead th {\n",
       "        text-align: right;\n",
       "    }\n",
       "</style>\n",
       "<table border=\"1\" class=\"dataframe\">\n",
       "  <thead>\n",
       "    <tr style=\"text-align: right;\">\n",
       "      <th></th>\n",
       "      <th>V1</th>\n",
       "    </tr>\n",
       "  </thead>\n",
       "  <tbody>\n",
       "    <tr>\n",
       "      <th>0</th>\n",
       "      <td>1.233550</td>\n",
       "    </tr>\n",
       "    <tr>\n",
       "      <th>1</th>\n",
       "      <td>6.753310</td>\n",
       "    </tr>\n",
       "    <tr>\n",
       "      <th>2</th>\n",
       "      <td>-1.866632</td>\n",
       "    </tr>\n",
       "    <tr>\n",
       "      <th>3</th>\n",
       "      <td>1.954930</td>\n",
       "    </tr>\n",
       "    <tr>\n",
       "      <th>4</th>\n",
       "      <td>1.194514</td>\n",
       "    </tr>\n",
       "  </tbody>\n",
       "</table>\n",
       "</div>"
      ],
      "text/plain": [
       "         V1\n",
       "0  1.233550\n",
       "1  6.753310\n",
       "2 -1.866632\n",
       "3  1.954930\n",
       "4  1.194514"
      ]
     },
     "execution_count": 3,
     "metadata": {},
     "output_type": "execute_result"
    }
   ],
   "source": [
    "y.head()"
   ]
  },
  {
   "cell_type": "markdown",
   "metadata": {},
   "source": [
    "## General Usage"
   ]
  },
  {
   "cell_type": "code",
   "execution_count": 4,
   "metadata": {
    "scrolled": true
   },
   "outputs": [
    {
     "name": "stderr",
     "output_type": "stream",
     "text": [
      "\r",
      "  0%|                                                                                         | 0/60 [00:00<?, ?it/s]"
     ]
    },
    {
     "name": "stdout",
     "output_type": "stream",
     "text": [
      "Procedure 1\n"
     ]
    },
    {
     "name": "stderr",
     "output_type": "stream",
     "text": [
      "100%|████████████████████████████████████████████████████████████████████████████████| 60/60 [01:02<00:00,  1.03s/it]\n",
      "  3%|██▋                                                                              | 2/60 [00:00<00:03, 16.99it/s]"
     ]
    },
    {
     "name": "stdout",
     "output_type": "stream",
     "text": [
      "Procedure 2\n"
     ]
    },
    {
     "name": "stderr",
     "output_type": "stream",
     "text": [
      "100%|████████████████████████████████████████████████████████████████████████████████| 60/60 [00:03<00:00, 18.40it/s]\n"
     ]
    },
    {
     "data": {
      "text/plain": [
       "<hi_lasso.hi_lasso.HiLasso at 0x1f41e360f48>"
      ]
     },
     "execution_count": 4,
     "metadata": {},
     "output_type": "execute_result"
    }
   ],
   "source": [
    "from hi_lasso.hi_lasso import HiLasso\n",
    "hilasso = HiLasso(q1='auto', q2='auto', L=30, alpha=0.05, logistic=False, random_state=None, parallel=False, n_jobs=None)\n",
    "hilasso.fit(X, y, sample_weight=None)"
   ]
  },
  {
   "cell_type": "code",
   "execution_count": 5,
   "metadata": {
    "scrolled": true
   },
   "outputs": [
    {
     "data": {
      "text/plain": [
       "array([ 0.46210394,  1.24552088,  0.        ,  0.90706553,  0.        ,\n",
       "        0.        ,  2.23579843,  0.30876645,  0.        ,  0.        ,\n",
       "        0.        ,  0.        ,  0.        ,  0.        ,  0.        ,\n",
       "       -0.31372601,  0.        ,  0.        ,  0.        ,  0.        ,\n",
       "        0.        ,  0.        ,  0.        ,  0.        ,  0.        ,\n",
       "       -0.59941971,  0.        ,  0.        ,  0.        ,  1.04376768,\n",
       "        0.        ,  0.        ,  0.        ,  0.        ,  0.        ,\n",
       "        0.        ,  0.        ,  0.        ,  0.        ,  0.        ,\n",
       "        0.        ,  0.        ,  0.        ,  0.        ,  0.        ,\n",
       "        0.        ,  0.        ,  0.        ,  0.        ,  0.        ,\n",
       "        0.        ,  0.        ,  0.        ,  0.        ,  0.        ,\n",
       "        0.        ,  0.        ,  0.        ,  0.        ,  0.        ,\n",
       "        0.        ,  0.        ,  0.        ,  0.41696402,  0.        ,\n",
       "        0.        , -0.32200276, -0.36038398,  0.        ,  0.        ,\n",
       "        0.        ,  0.        ,  0.        ,  0.        ,  0.        ,\n",
       "        0.        , -0.44779802,  0.        ,  0.        ,  0.        ,\n",
       "        0.        ,  0.37710895,  0.        ,  0.        ,  0.        ,\n",
       "        0.        ,  0.        ,  0.        ,  0.        ,  0.        ,\n",
       "        0.        ,  0.        ,  0.        ,  0.        ,  0.        ,\n",
       "        0.        ,  0.        ,  0.        ,  0.        ,  0.        ])"
      ]
     },
     "execution_count": 5,
     "metadata": {},
     "output_type": "execute_result"
    }
   ],
   "source": [
    "hilasso.coef_"
   ]
  },
  {
   "cell_type": "code",
   "execution_count": 6,
   "metadata": {
    "scrolled": true
   },
   "outputs": [
    {
     "data": {
      "text/plain": [
       "array([5.08869776e-03, 2.11419331e-18, 9.99720318e-01, 1.24542123e-20,\n",
       "       9.22045686e-01, 1.00000000e+00, 7.40877404e-29, 3.92122793e-02,\n",
       "       9.98979737e-01, 1.00000000e+00, 1.00000000e+00, 9.99720318e-01,\n",
       "       9.99998519e-01, 1.00000000e+00, 9.99720318e-01, 1.41450530e-04,\n",
       "       6.93387034e-01, 1.00000000e+00, 1.00000000e+00, 1.00000000e+00,\n",
       "       1.00000000e+00, 1.00000000e+00, 1.00000000e+00, 9.99999995e-01,\n",
       "       9.99999995e-01, 1.62235113e-05, 1.00000000e+00, 1.00000000e+00,\n",
       "       1.00000000e+00, 1.71842539e-19, 9.98979737e-01, 1.00000000e+00,\n",
       "       9.99999995e-01, 9.99999872e-01, 1.00000000e+00, 9.99720318e-01,\n",
       "       9.99998519e-01, 1.00000000e+00, 9.99999872e-01, 1.00000000e+00,\n",
       "       9.99999995e-01, 1.00000000e+00, 9.99999995e-01, 6.93387034e-01,\n",
       "       9.99988764e-01, 1.00000000e+00, 1.00000000e+00, 1.00000000e+00,\n",
       "       9.99999995e-01, 6.86046534e-02, 1.00000000e+00, 9.99999995e-01,\n",
       "       1.00000000e+00, 9.99998519e-01, 2.57446165e-01, 1.00000000e+00,\n",
       "       9.99988764e-01, 9.99999995e-01, 9.99999872e-01, 9.99999995e-01,\n",
       "       1.00000000e+00, 1.00000000e+00, 1.00000000e+00, 5.08869776e-03,\n",
       "       9.58646715e-01, 9.99936916e-01, 4.99632744e-06, 1.62235113e-05,\n",
       "       8.66299610e-01, 1.00000000e+00, 1.00000000e+00, 9.99999995e-01,\n",
       "       9.99999872e-01, 1.00000000e+00, 9.99999872e-01, 2.57446165e-01,\n",
       "       5.20130241e-09, 9.99936916e-01, 1.00000000e+00, 9.99999872e-01,\n",
       "       6.93387034e-01, 2.34773777e-08, 1.00000000e+00, 1.00000000e+00,\n",
       "       1.00000000e+00, 1.00000000e+00, 6.86046534e-02, 9.99999995e-01,\n",
       "       9.99720318e-01, 1.00000000e+00, 1.00000000e+00, 9.99999995e-01,\n",
       "       1.00000000e+00, 1.00000000e+00, 1.13056169e-01, 1.75622359e-01,\n",
       "       9.22045686e-01, 6.93387034e-01, 9.99936916e-01, 1.00000000e+00])"
      ]
     },
     "execution_count": 6,
     "metadata": {},
     "output_type": "execute_result"
    }
   ],
   "source": [
    "hilasso.p_values_"
   ]
  },
  {
   "cell_type": "code",
   "execution_count": 7,
   "metadata": {
    "scrolled": true
   },
   "outputs": [
    {
     "data": {
      "text/plain": [
       "0.6223126908082419"
      ]
     },
     "execution_count": 7,
     "metadata": {},
     "output_type": "execute_result"
    }
   ],
   "source": [
    "hilasso.intercept_"
   ]
  },
  {
   "cell_type": "markdown",
   "metadata": {},
   "source": [
    "## Parallel Processing Usage\n",
    "\n",
    "If `Parallel` is set to 'True', parallel processing can be used for bootstrapping.\n",
    "\n",
    "You can specify `n_jobs`(the number of cores) to use in parallel processing."
   ]
  },
  {
   "cell_type": "code",
   "execution_count": 8,
   "metadata": {},
   "outputs": [
    {
     "name": "stderr",
     "output_type": "stream",
     "text": [
      "\r",
      "  0%|                                                                                         | 0/60 [00:00<?, ?it/s]"
     ]
    },
    {
     "name": "stdout",
     "output_type": "stream",
     "text": [
      "Procedure 1\n"
     ]
    },
    {
     "name": "stderr",
     "output_type": "stream",
     "text": [
      "100%|████████████████████████████████████████████████████████████████████████████████| 60/60 [00:10<00:00,  5.73it/s]\n",
      "  0%|                                                                                         | 0/60 [00:00<?, ?it/s]"
     ]
    },
    {
     "name": "stdout",
     "output_type": "stream",
     "text": [
      "Procedure 2\n"
     ]
    },
    {
     "name": "stderr",
     "output_type": "stream",
     "text": [
      "100%|████████████████████████████████████████████████████████████████████████████████| 60/60 [00:01<00:00, 31.52it/s]\n"
     ]
    },
    {
     "data": {
      "text/plain": [
       "<hi_lasso.hi_lasso.HiLasso at 0x1f43d82b8c8>"
      ]
     },
     "execution_count": 8,
     "metadata": {},
     "output_type": "execute_result"
    }
   ],
   "source": [
    "from hi_lasso.hi_lasso import HiLasso\n",
    "hilasso_parallel = HiLasso(q1='auto', q2='auto', L=30, alpha=0.05, logistic=False, random_state=None, parallel=True, n_jobs=None)\n",
    "hilasso_parallel.fit(X, y, sample_weight=None)"
   ]
  },
  {
   "cell_type": "code",
   "execution_count": 9,
   "metadata": {},
   "outputs": [
    {
     "data": {
      "text/plain": [
       "array([ 0.        ,  1.51419872,  0.        ,  0.87322631,  0.        ,\n",
       "        0.        ,  2.23200103,  0.4323608 ,  0.        ,  0.        ,\n",
       "        0.        ,  0.        ,  0.        ,  0.        ,  0.        ,\n",
       "       -0.2099277 ,  0.        ,  0.        ,  0.        ,  0.        ,\n",
       "        0.        ,  0.        ,  0.        ,  0.        ,  0.        ,\n",
       "       -0.27517399,  0.        ,  0.        ,  0.        ,  0.9882923 ,\n",
       "        0.        ,  0.        ,  0.        ,  0.        ,  0.        ,\n",
       "        0.        ,  0.        ,  0.        ,  0.        ,  0.        ,\n",
       "        0.        ,  0.        ,  0.        ,  0.19367698,  0.        ,\n",
       "        0.        ,  0.        ,  0.        ,  0.        ,  0.        ,\n",
       "        0.        ,  0.        ,  0.        ,  0.        ,  0.        ,\n",
       "        0.        ,  0.        ,  0.        ,  0.        ,  0.        ,\n",
       "        0.        ,  0.        ,  0.        ,  0.        ,  0.        ,\n",
       "        0.        ,  0.        ,  0.        ,  0.        ,  0.        ,\n",
       "        0.        ,  0.        ,  0.        ,  0.        ,  0.        ,\n",
       "        0.47607576, -0.27887515,  0.        ,  0.        ,  0.        ,\n",
       "        0.42069865,  0.40714104,  0.        ,  0.        ,  0.        ,\n",
       "        0.        ,  0.        ,  0.        ,  0.        ,  0.        ,\n",
       "        0.        ,  0.        ,  0.        ,  0.        ,  0.        ,\n",
       "        0.        ,  0.        ,  0.        ,  0.        ,  0.        ])"
      ]
     },
     "execution_count": 9,
     "metadata": {},
     "output_type": "execute_result"
    }
   ],
   "source": [
    "hilasso_parallel.coef_"
   ]
  },
  {
   "cell_type": "code",
   "execution_count": 11,
   "metadata": {},
   "outputs": [
    {
     "data": {
      "text/plain": [
       "array([9.80448765e-01, 1.57407956e-27, 9.99958412e-01, 9.94516205e-25,\n",
       "       9.99143705e-01, 1.00000000e+00, 1.91411057e-32, 2.61639765e-09,\n",
       "       6.77919624e-01, 9.99993965e-01, 1.00000000e+00, 9.99143705e-01,\n",
       "       9.99787731e-01, 9.99999973e-01, 9.99787731e-01, 8.31122195e-03,\n",
       "       9.97154801e-01, 1.00000000e+00, 9.99993965e-01, 9.99999973e-01,\n",
       "       9.99999973e-01, 9.99787731e-01, 1.00000000e+00, 1.00000000e+00,\n",
       "       1.00000000e+00, 1.66201145e-03, 1.00000000e+00, 1.00000000e+00,\n",
       "       9.99999424e-01, 9.94516205e-25, 9.57991693e-01, 1.00000000e+00,\n",
       "       9.99999973e-01, 9.99999973e-01, 1.00000000e+00, 9.99143705e-01,\n",
       "       1.00000000e+00, 9.99999973e-01, 9.99958412e-01, 1.00000000e+00,\n",
       "       1.00000000e+00, 1.00000000e+00, 1.00000000e+00, 3.24181317e-02,\n",
       "       1.00000000e+00, 1.00000000e+00, 9.99999973e-01, 9.99999973e-01,\n",
       "       1.00000000e+00, 9.57991693e-01, 9.99993965e-01, 9.99999424e-01,\n",
       "       1.00000000e+00, 9.99999973e-01, 4.45406012e-01, 1.00000000e+00,\n",
       "       9.99999973e-01, 1.00000000e+00, 9.99787731e-01, 9.99999424e-01,\n",
       "       1.00000000e+00, 1.00000000e+00, 9.97154801e-01, 8.60318467e-01,\n",
       "       9.91985777e-01, 8.60318467e-01, 1.57267909e-01, 2.35833514e-01,\n",
       "       7.79033117e-01, 1.00000000e+00, 1.00000000e+00, 1.00000000e+00,\n",
       "       1.00000000e+00, 1.00000000e+00, 9.99999424e-01, 9.96648055e-06,\n",
       "       3.14407728e-05, 1.00000000e+00, 1.00000000e+00, 9.99993965e-01,\n",
       "       2.61639765e-09, 9.31257597e-05, 9.99999973e-01, 9.99999424e-01,\n",
       "       9.99999424e-01, 9.99993965e-01, 9.99787731e-01, 1.00000000e+00,\n",
       "       9.99999424e-01, 1.00000000e+00, 1.00000000e+00, 9.99999424e-01,\n",
       "       9.99999424e-01, 1.00000000e+00, 1.57267909e-01, 1.57267909e-01,\n",
       "       9.99787731e-01, 9.91985777e-01, 1.00000000e+00, 1.00000000e+00])"
      ]
     },
     "execution_count": 11,
     "metadata": {},
     "output_type": "execute_result"
    }
   ],
   "source": [
    "hilasso_parallel.p_values_"
   ]
  },
  {
   "cell_type": "code",
   "execution_count": 13,
   "metadata": {},
   "outputs": [
    {
     "data": {
      "text/plain": [
       "0.6503488998795035"
      ]
     },
     "execution_count": 13,
     "metadata": {},
     "output_type": "execute_result"
    }
   ],
   "source": [
    "hilasso_parallel.intercept_"
   ]
  }
 ],
 "metadata": {
  "kernelspec": {
   "display_name": "Python 3",
   "language": "python",
   "name": "python3"
  },
  "language_info": {
   "codemirror_mode": {
    "name": "ipython",
    "version": 3
   },
   "file_extension": ".py",
   "mimetype": "text/x-python",
   "name": "python",
   "nbconvert_exporter": "python",
   "pygments_lexer": "ipython3",
   "version": "3.7.4"
  }
 },
 "nbformat": 4,
 "nbformat_minor": 2
}
